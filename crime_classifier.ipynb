{
 "cells": [
  {
   "cell_type": "code",
   "execution_count": 2,
   "metadata": {},
   "outputs": [],
   "source": [
    "import pandas as pd \n",
    "import numpy as np"
   ]
  },
  {
   "cell_type": "code",
   "execution_count": 3,
   "metadata": {},
   "outputs": [
    {
     "data": {
      "text/plain": [
       "Index(['Charge', 'Count', 'Percent'], dtype='object')"
      ]
     },
     "execution_count": 3,
     "metadata": {},
     "output_type": "execute_result"
    }
   ],
   "source": [
    "df= pd.read_excel(\"ca_charges_freq.xlsx\")\n",
    "df.columns"
   ]
  },
  {
   "cell_type": "code",
   "execution_count": 4,
   "metadata": {},
   "outputs": [],
   "source": [
    "xl=pd.ExcelFile(r'hi_classifier_labeled_data.xlsx')\n",
    "cjars_table=pd.read_excel(xl,xl.sheet_names[1])\n"
   ]
  },
  {
   "cell_type": "code",
   "execution_count": 5,
   "metadata": {
    "scrolled": false
   },
   "outputs": [
    {
     "name": "stdout",
     "output_type": "stream",
     "text": [
      "644\n",
      "2775\n",
      "1445\n"
     ]
    }
   ],
   "source": [
    "#want to parse the data in each of the \n",
    "#print(df)\n",
    "vc=[]\n",
    "pc=[]\n",
    "uncounted=0\n",
    "for i in range(len(df)):\n",
    "    temp=str(df.at[i,'Charge'])\n",
    "    if(temp.find(\"VC-\") !=-1):\n",
    "        vc.append(temp)\n",
    "    elif(temp.find(\"PC-\") !=-1):\n",
    "        pc.append(temp)\n",
    "    else:\n",
    "        uncounted+=1\n",
    "print(len(vc))\n",
    "print(len(pc))\n",
    "print(uncounted)\n",
    "    "
   ]
  },
  {
   "cell_type": "code",
   "execution_count": 28,
   "metadata": {},
   "outputs": [
    {
     "name": "stdout",
     "output_type": "stream",
     "text": [
      "murder\n",
      "attempted murder\n",
      "conspiracy to commit murder\n",
      "unspecified homicide\n",
      "unspecified homicide, attempted\n",
      "unspecified homicide, conspiracy\n",
      "voluntary manslaughter\n",
      "voluntary manslaughter, attempted\n",
      "voluntary manslaughter,conspiracy\n",
      "vehicular manslaughter\n",
      "vehicular manslaughter, attempted\n",
      "vehicular manslaughter, conspiracy\n",
      "involuntary manslaughter\n",
      "involuntary manslaughter, attempt\n",
      "involuntary manslaughter, conspiracy\n",
      "kidnapping\n",
      "kidnapping, attempted\n",
      "kidnapping, conspiracy\n",
      "rape\n",
      "rape, attempted\n",
      "rape, conspiracy\n",
      "statutory rape\n",
      "statutory rape, attempted\n",
      "statutory rape, conspiracy\n",
      "child molestation\n",
      "child molestation, attempted\n",
      "child molestation, conspiracy\n",
      "sexual assault\n",
      "sexual assault, attempted\n",
      "sexual assault, conspiracy\n",
      "human trafficking, sex - child\n",
      "human trafficking, sex - child, attempted\n",
      "human trafficking, sex - child, conspiracy\n",
      "human trafficking, sex - adult or no age specified human\n",
      "trafficking, sex - adult or no age specified, attempted human\n",
      "trafficking, sex - adult or no age specified, conspiracy \n",
      "human trafficking, labor - child\n",
      "human trafficking, labor - child, attempted\n",
      "human trafficking, labor - child, conspiracy\n",
      "human trafficking, labor - adult or no age specified human\n",
      "trafficking, labor - adult or no age specified, attempted human\n",
      "trafficking, labor - adult or no age specified, conspiracy\n",
      "human trafficking, unspecified - child\n",
      "human trafficking, unspecified - child, attempted  \n",
      "human trafficking, unspecified - child, conspiracy\n",
      "human trafficking, unspecified - adult or no age specified human trafficking,\n",
      "unspecified - adult or no age specified, attempted human trafficking,\n",
      "unspecified - adult or no age specified, conspiracy human trafficking\n",
      "human trafficking, attempted\n",
      "human trafficking, conspiracy\n",
      "armed robbery\n",
      "armed robbery, attempted\n",
      "armed robbery, conspiracy\n",
      "unarmed robbery\n",
      "unarmed robbery, attempted\n",
      "unarmed robbery, conspiracy\n",
      "aggravated assault\n",
      "aggravated assault, attempted\n",
      "aggravated assault, conspiracy\n",
      "assault of an officer\n",
      "assault of an officer, attempted\n",
      "assault of an officer, conspiracy\n",
      "child abuse\n",
      "child abuse, attempted\n",
      "child abuse, conspiracy\n",
      "simple assault\n",
      "simple assault, attempted\n",
      "simple assault, conspiracy\n",
      "extortion/threat\n",
      "extortion/threat, attempted\n",
      "extortion/threat, conspiracy\n",
      "hit and run with bodily injury\n",
      "hit and run with bodily injury, attempted\n",
      "hit and run with bodily injury, conspiracy\n",
      "violent offense, other\n",
      "violent offense other, attempted\n",
      "violent offense other, conspiracy\n"
     ]
    }
   ],
   "source": [
    "#cjars_table.columns\n",
    "arr_0=\"This below table contains the broad categories the crimes are classified into. The table has been taken from 'Criminal Justice Administrative Records System (CJARS)' pdf.\"\n",
    "arr_1 = 'Unnamed: 1'\n",
    "results =[0 for _ in range(len(df))] \n",
    "\n",
    "for violent_crime in range(len(cjars_table[arr_0])):\n",
    "    if(cjars_table.at[violent_crime, arr_0] !='Violent'):\n",
    "        continue\n",
    "    \n",
    "    temp= str(cjars_table.at[violent_crime, arr_1]).lower()\n",
    "    print(temp)\n",
    "    for crime in range(len(df)):\n",
    "        if results[crime] ==1:\n",
    "            continue\n",
    "        crime_description=str(df.at[crime,'Charge']).lower()\n",
    "        if(crime_description.find(temp) >-1):\n",
    "            results[crime]=1\n",
    "\n",
    "    \n",
    "        \n",
    "        \n",
    "    \n",
    "            \n",
    "            \n"
   ]
  },
  {
   "cell_type": "code",
   "execution_count": 29,
   "metadata": {},
   "outputs": [],
   "source": [
    "df[\"Category(1 violent or 0 non violent)\"]=results\n",
    "df \n",
    "df.to_csv(\"out.csv\",index=False)"
   ]
  },
  {
   "cell_type": "code",
   "execution_count": 30,
   "metadata": {},
   "outputs": [
    {
     "name": "stdout",
     "output_type": "stream",
     "text": [
      "110\n"
     ]
    }
   ],
   "source": [
    "c=0\n",
    "for i in results:\n",
    "    if i==1:\n",
    "        c+=1\n",
    "print(c)"
   ]
  },
  {
   "cell_type": "code",
   "execution_count": 31,
   "metadata": {},
   "outputs": [
    {
     "name": "stdout",
     "output_type": "stream",
     "text": [
      "Unnamed: 1\n"
     ]
    }
   ],
   "source": [
    "print(cjars_table.columns[1])"
   ]
  }
 ],
 "metadata": {
  "interpreter": {
   "hash": "916dbcbb3f70747c44a77c7bcd40155683ae19c65e1c03b4aa3499c5328201f1"
  },
  "kernelspec": {
   "display_name": "Python 3.8.10 64-bit",
   "name": "python3"
  },
  "language_info": {
   "codemirror_mode": {
    "name": "ipython",
    "version": 3
   },
   "file_extension": ".py",
   "mimetype": "text/x-python",
   "name": "python",
   "nbconvert_exporter": "python",
   "pygments_lexer": "ipython3",
   "version": "3.8.10"
  }
 },
 "nbformat": 4,
 "nbformat_minor": 2
}
